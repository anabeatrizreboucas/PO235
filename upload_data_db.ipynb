{
 "cells": [
  {
   "cell_type": "code",
   "execution_count": 1,
   "metadata": {},
   "outputs": [],
   "source": [
    "import os\n",
    "from dotenv import load_dotenv\n",
    "load_dotenv()\n",
    "\n",
    "POSTGRES_DATABASE = os.getenv('POSTGRES_DATABASE')\n",
    "POSTGRES_HOST = os.getenv('POSTGRES_HOST')\n",
    "POSTGRES_PASSWORD = os.getenv('POSTGRES_PASSWORD')\n",
    "POSTGRES_URL = os.getenv('POSTGRES_URL')\n",
    "POSTGRES_URL_NON_POOLING = os.getenv('POSTGRES_URL_NON_POOLING')\n",
    "POSTGRES_URL_NO_SSL = os.getenv('POSTGRES_URL_NO_SSL')\n",
    "POSTGRES_USER = os.getenv('POSTGRES_USER')"
   ]
  },
  {
   "cell_type": "code",
   "execution_count": 2,
   "metadata": {},
   "outputs": [],
   "source": [
    "# pegar os dados de /models_results\n",
    "import pandas as pd\n",
    "\n",
    "dfPortfolioNumbers = pd.read_csv('models_results/portfolio_numbers.csv')\n",
    "\n",
    "dfPortfolio = pd.read_csv('models_results/portfolio.csv')\n",
    "\n",
    "dfModelResults = pd.read_csv('models_results/model_results.csv')\n",
    "\n",
    "yahoo_data = pd.read_csv('yahoo_data/yahoo_data.csv')\n",
    "\n",
    "fundamentus_data = pd.read_csv('fundamentus_data/fundamentus.csv')\n",
    "\n",
    "back_test_results = pd.read_csv('models_results/backtest_results.csv')"
   ]
  },
  {
   "cell_type": "code",
   "execution_count": 3,
   "metadata": {},
   "outputs": [],
   "source": [
    "fundamentus_data['stock'] = fundamentus_data['papel']\n",
    "dfPortfolio = pd.merge(dfPortfolio, fundamentus_data[['stock', 'descricao_papel']], how='left', on='stock')\n",
    "\n",
    "dfModelResults['stock'] = dfModelResults['Ticker']\n",
    "dfModelResults['Model'] = dfModelResults['Algorithm']\n",
    "dfPortfolio = pd.merge(dfPortfolio, dfModelResults[['stock', 'Model', 'MAPE']], how='left', on=['stock', 'Model'])"
   ]
  },
  {
   "cell_type": "code",
   "execution_count": 4,
   "metadata": {},
   "outputs": [],
   "source": [
    "stocksTikers = list(dfPortfolio['stock'].unique())\n",
    "# para todos os tikers de stocksTikers, pegar os dados de yahoo_data para 'stock', 'date' e 'Close' e colocar em um novo DataFrame\n",
    "dfHistoricalData = pd.DataFrame()\n",
    "for stock in stocksTikers:\n",
    "    dfHistoricalData = pd.concat([dfHistoricalData, yahoo_data[yahoo_data['stock'] == stock][['stock','date', 'Close']]], axis=0)\n",
    "# filtrar para datas de até 30 dias atrás da maior data\n",
    "biggestDate = dfHistoricalData['date'].max()\n",
    "dfHistoricalData = dfHistoricalData[dfHistoricalData['date'] > str(pd.Timestamp(biggestDate) - pd.Timedelta(days=30))]"
   ]
  },
  {
   "cell_type": "code",
   "execution_count": 5,
   "metadata": {},
   "outputs": [
    {
     "data": {
      "text/html": [
       "<div>\n",
       "<style scoped>\n",
       "    .dataframe tbody tr th:only-of-type {\n",
       "        vertical-align: middle;\n",
       "    }\n",
       "\n",
       "    .dataframe tbody tr th {\n",
       "        vertical-align: top;\n",
       "    }\n",
       "\n",
       "    .dataframe thead th {\n",
       "        text-align: right;\n",
       "    }\n",
       "</style>\n",
       "<table border=\"1\" class=\"dataframe\">\n",
       "  <thead>\n",
       "    <tr style=\"text-align: right;\">\n",
       "      <th></th>\n",
       "      <th>date</th>\n",
       "      <th>stock</th>\n",
       "      <th>Prediction</th>\n",
       "      <th>Model</th>\n",
       "      <th>Margin_prediction</th>\n",
       "      <th>Sharpe</th>\n",
       "      <th>Sortino</th>\n",
       "      <th>descricao_papel</th>\n",
       "      <th>MAPE</th>\n",
       "    </tr>\n",
       "  </thead>\n",
       "  <tbody>\n",
       "    <tr>\n",
       "      <th>0</th>\n",
       "      <td>1</td>\n",
       "      <td>HYPE3</td>\n",
       "      <td>25.993537</td>\n",
       "      <td>Random Forest</td>\n",
       "      <td>0.254168</td>\n",
       "      <td>-0.078244</td>\n",
       "      <td>-0.113063</td>\n",
       "      <td>HYPERA</td>\n",
       "      <td>0.258988</td>\n",
       "    </tr>\n",
       "    <tr>\n",
       "      <th>1</th>\n",
       "      <td>2</td>\n",
       "      <td>HYPE3</td>\n",
       "      <td>25.798980</td>\n",
       "      <td>Random Forest</td>\n",
       "      <td>0.254168</td>\n",
       "      <td>-0.078244</td>\n",
       "      <td>-0.113063</td>\n",
       "      <td>HYPERA</td>\n",
       "      <td>0.258988</td>\n",
       "    </tr>\n",
       "    <tr>\n",
       "      <th>2</th>\n",
       "      <td>3</td>\n",
       "      <td>HYPE3</td>\n",
       "      <td>25.510808</td>\n",
       "      <td>Random Forest</td>\n",
       "      <td>0.254168</td>\n",
       "      <td>-0.078244</td>\n",
       "      <td>-0.113063</td>\n",
       "      <td>HYPERA</td>\n",
       "      <td>0.258988</td>\n",
       "    </tr>\n",
       "    <tr>\n",
       "      <th>3</th>\n",
       "      <td>4</td>\n",
       "      <td>HYPE3</td>\n",
       "      <td>25.510808</td>\n",
       "      <td>Random Forest</td>\n",
       "      <td>0.254168</td>\n",
       "      <td>-0.078244</td>\n",
       "      <td>-0.113063</td>\n",
       "      <td>HYPERA</td>\n",
       "      <td>0.258988</td>\n",
       "    </tr>\n",
       "    <tr>\n",
       "      <th>4</th>\n",
       "      <td>5</td>\n",
       "      <td>HYPE3</td>\n",
       "      <td>25.309105</td>\n",
       "      <td>Random Forest</td>\n",
       "      <td>0.254168</td>\n",
       "      <td>-0.078244</td>\n",
       "      <td>-0.113063</td>\n",
       "      <td>HYPERA</td>\n",
       "      <td>0.258988</td>\n",
       "    </tr>\n",
       "  </tbody>\n",
       "</table>\n",
       "</div>"
      ],
      "text/plain": [
       "   date  stock  Prediction          Model  Margin_prediction    Sharpe  \\\n",
       "0     1  HYPE3   25.993537  Random Forest           0.254168 -0.078244   \n",
       "1     2  HYPE3   25.798980  Random Forest           0.254168 -0.078244   \n",
       "2     3  HYPE3   25.510808  Random Forest           0.254168 -0.078244   \n",
       "3     4  HYPE3   25.510808  Random Forest           0.254168 -0.078244   \n",
       "4     5  HYPE3   25.309105  Random Forest           0.254168 -0.078244   \n",
       "\n",
       "    Sortino descricao_papel      MAPE  \n",
       "0 -0.113063          HYPERA  0.258988  \n",
       "1 -0.113063          HYPERA  0.258988  \n",
       "2 -0.113063          HYPERA  0.258988  \n",
       "3 -0.113063          HYPERA  0.258988  \n",
       "4 -0.113063          HYPERA  0.258988  "
      ]
     },
     "execution_count": 5,
     "metadata": {},
     "output_type": "execute_result"
    }
   ],
   "source": [
    "dfPortfolio.head()"
   ]
  },
  {
   "cell_type": "code",
   "execution_count": 6,
   "metadata": {},
   "outputs": [
    {
     "data": {
      "text/html": [
       "<div>\n",
       "<style scoped>\n",
       "    .dataframe tbody tr th:only-of-type {\n",
       "        vertical-align: middle;\n",
       "    }\n",
       "\n",
       "    .dataframe tbody tr th {\n",
       "        vertical-align: top;\n",
       "    }\n",
       "\n",
       "    .dataframe thead th {\n",
       "        text-align: right;\n",
       "    }\n",
       "</style>\n",
       "<table border=\"1\" class=\"dataframe\">\n",
       "  <thead>\n",
       "    <tr style=\"text-align: right;\">\n",
       "      <th></th>\n",
       "      <th>stock</th>\n",
       "      <th>date</th>\n",
       "      <th>Close</th>\n",
       "    </tr>\n",
       "  </thead>\n",
       "  <tbody>\n",
       "    <tr>\n",
       "      <th>21222</th>\n",
       "      <td>HYPE3</td>\n",
       "      <td>2024-10-24</td>\n",
       "      <td>27.740000</td>\n",
       "    </tr>\n",
       "    <tr>\n",
       "      <th>21223</th>\n",
       "      <td>HYPE3</td>\n",
       "      <td>2024-10-25</td>\n",
       "      <td>26.200001</td>\n",
       "    </tr>\n",
       "    <tr>\n",
       "      <th>21224</th>\n",
       "      <td>HYPE3</td>\n",
       "      <td>2024-10-28</td>\n",
       "      <td>23.920000</td>\n",
       "    </tr>\n",
       "    <tr>\n",
       "      <th>21225</th>\n",
       "      <td>HYPE3</td>\n",
       "      <td>2024-10-29</td>\n",
       "      <td>24.090000</td>\n",
       "    </tr>\n",
       "    <tr>\n",
       "      <th>21226</th>\n",
       "      <td>HYPE3</td>\n",
       "      <td>2024-10-30</td>\n",
       "      <td>24.100000</td>\n",
       "    </tr>\n",
       "  </tbody>\n",
       "</table>\n",
       "</div>"
      ],
      "text/plain": [
       "       stock        date      Close\n",
       "21222  HYPE3  2024-10-24  27.740000\n",
       "21223  HYPE3  2024-10-25  26.200001\n",
       "21224  HYPE3  2024-10-28  23.920000\n",
       "21225  HYPE3  2024-10-29  24.090000\n",
       "21226  HYPE3  2024-10-30  24.100000"
      ]
     },
     "execution_count": 6,
     "metadata": {},
     "output_type": "execute_result"
    }
   ],
   "source": [
    "dfHistoricalData.head()"
   ]
  },
  {
   "cell_type": "code",
   "execution_count": 7,
   "metadata": {},
   "outputs": [],
   "source": [
    "import psycopg2\n",
    "\n",
    "conn = psycopg2.connect(\n",
    "    host=POSTGRES_HOST,\n",
    "    database=POSTGRES_DATABASE,\n",
    "    user=POSTGRES_USER,\n",
    "    password=POSTGRES_PASSWORD\n",
    ")\n",
    "\n",
    "apagarStockAnalisys = \"DELETE FROM \\\"StocksAnalisys\\\";\"\n",
    "apagarStockPredictions = \"DELETE FROM \\\"StocksPredictions\\\";\"\n",
    "apagarStocksHistory = \"DELETE FROM \\\"StocksHistory\\\";\"\n",
    "apagarModelHistory = \"DELETE FROM \\\"ModelHistory\\\";\"\n",
    "\n",
    "cur = conn.cursor()\n",
    "cur.execute(apagarStockAnalisys)\n",
    "cur.execute(apagarStockPredictions)\n",
    "cur.execute(apagarStocksHistory)\n",
    "cur.execute(apagarModelHistory)\n",
    "conn.commit()"
   ]
  },
  {
   "cell_type": "code",
   "execution_count": 8,
   "metadata": {},
   "outputs": [],
   "source": [
    "# Inserir os dados historicos\n",
    "for index, row in dfHistoricalData.iterrows():\n",
    "    sql = \"INSERT INTO \\\"StocksHistory\\\" (\\\"date\\\", \\\"code\\\", \\\"price\\\") VALUES (%s, %s, %s);\"\n",
    "    val = (row['date'], row['stock'], row['Close'])\n",
    "    cur.execute(sql, val)\n",
    "conn.commit()"
   ]
  },
  {
   "cell_type": "code",
   "execution_count": 9,
   "metadata": {},
   "outputs": [],
   "source": [
    "dates = []\n",
    "for i in range(5):\n",
    "    dates.append(str(pd.Timestamp(biggestDate) + pd.Timedelta(days=i + 3))[:10])"
   ]
  },
  {
   "cell_type": "code",
   "execution_count": 10,
   "metadata": {},
   "outputs": [],
   "source": [
    "# inserir as previsões\n",
    "for index, row in dfPortfolio.iterrows():\n",
    "    sql = \"INSERT INTO \\\"StocksPredictions\\\" (\\\"date\\\", \\\"code\\\", \\\"name\\\", \\\"price\\\") VALUES (%s, %s, %s, %s);\"\n",
    "    val = (dates[row['date']-1], row['stock'], row['descricao_papel'], row['Prediction'])\n",
    "    cur.execute(sql, val)\n",
    "conn.commit()"
   ]
  },
  {
   "cell_type": "code",
   "execution_count": 11,
   "metadata": {},
   "outputs": [],
   "source": [
    "for stock in stocksTikers:\n",
    "    line = dfPortfolio[dfPortfolio['stock'] == stock].iloc[0]\n",
    "    sql = \"INSERT INTO \\\"StocksAnalisys\\\" (\\\"code\\\", \\\"name\\\", \\\"index1\\\", \\\"index2\\\", \\\"index3\\\", \\\"index4\\\", \\\"index5\\\", \\\"index6\\\") VALUES (%s, %s, %s, %s, %s, %s, %s, %s);\"\n",
    "    val = (stock, line['descricao_papel'], line['Prediction'], line['Margin_prediction'], line['Sharpe'], line['Sortino'], line['MAPE'], 100//line['Prediction'])\n",
    "    cur.execute(sql, val)\n",
    "conn.commit()"
   ]
  },
  {
   "cell_type": "code",
   "execution_count": 12,
   "metadata": {},
   "outputs": [],
   "source": [
    "portfolioMargin = dfPortfolioNumbers['Value'].iloc[0]\n",
    "portfolioSharpe = dfPortfolioNumbers['Value'].iloc[1]\n",
    "portfolioSortino = dfPortfolioNumbers['Value'].iloc[2]\n",
    "sql = \"INSERT INTO \\\"Portfolio\\\" (\\\"date\\\", \\\"index1\\\", \\\"index2\\\", \\\"index3\\\") VALUES (%s, %s, %s, %s);\"\n",
    "val = (biggestDate, portfolioMargin, portfolioSharpe, portfolioSortino)\n",
    "cur.execute(sql, val)\n",
    "conn.commit()"
   ]
  },
  {
   "cell_type": "code",
   "execution_count": 13,
   "metadata": {},
   "outputs": [],
   "source": [
    "results = list(back_test_results[back_test_results['Backtest Results'] != 0]['Backtest Results'])\n",
    "for i in range(len(results)):\n",
    "    date = str(pd.Timestamp(biggestDate) - pd.Timedelta(days=i + 7))[:10]\n",
    "    sql = \"INSERT INTO \\\"ModelHistory\\\" (\\\"date\\\", \\\"index1\\\") VALUES (%s, %s);\"\n",
    "    val = (date, results[len(results) - i - 1])\n",
    "    cur.execute(sql, val)\n",
    "conn.commit()"
   ]
  }
 ],
 "metadata": {
  "kernelspec": {
   "display_name": "base",
   "language": "python",
   "name": "python3"
  },
  "language_info": {
   "codemirror_mode": {
    "name": "ipython",
    "version": 3
   },
   "file_extension": ".py",
   "mimetype": "text/x-python",
   "name": "python",
   "nbconvert_exporter": "python",
   "pygments_lexer": "ipython3",
   "version": "3.11.7"
  }
 },
 "nbformat": 4,
 "nbformat_minor": 2
}
